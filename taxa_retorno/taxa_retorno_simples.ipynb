{
 "cells": [
  {
   "cell_type": "code",
   "execution_count": 2,
   "metadata": {},
   "outputs": [],
   "source": [
    "import numpy as np\n",
    "from pandas_datareader import data as wb\n",
    "import matplotlib.pyplot as plt"
   ]
  },
  {
   "cell_type": "code",
   "execution_count": 3,
   "metadata": {},
   "outputs": [],
   "source": [
    "INTER = wb.DataReader('BIDI4.SA', data_source='yahoo', start='2015-1-1')"
   ]
  },
  {
   "cell_type": "code",
   "execution_count": 4,
   "metadata": {},
   "outputs": [
    {
     "data": {
      "text/html": [
       "<div>\n",
       "<style scoped>\n",
       "    .dataframe tbody tr th:only-of-type {\n",
       "        vertical-align: middle;\n",
       "    }\n",
       "\n",
       "    .dataframe tbody tr th {\n",
       "        vertical-align: top;\n",
       "    }\n",
       "\n",
       "    .dataframe thead th {\n",
       "        text-align: right;\n",
       "    }\n",
       "</style>\n",
       "<table border=\"1\" class=\"dataframe\">\n",
       "  <thead>\n",
       "    <tr style=\"text-align: right;\">\n",
       "      <th></th>\n",
       "      <th>High</th>\n",
       "      <th>Low</th>\n",
       "      <th>Open</th>\n",
       "      <th>Close</th>\n",
       "      <th>Volume</th>\n",
       "      <th>Adj Close</th>\n",
       "    </tr>\n",
       "    <tr>\n",
       "      <th>Date</th>\n",
       "      <th></th>\n",
       "      <th></th>\n",
       "      <th></th>\n",
       "      <th></th>\n",
       "      <th></th>\n",
       "      <th></th>\n",
       "    </tr>\n",
       "  </thead>\n",
       "  <tbody>\n",
       "    <tr>\n",
       "      <th>2018-05-11</th>\n",
       "      <td>3.09279</td>\n",
       "      <td>2.98239</td>\n",
       "      <td>3.08949</td>\n",
       "      <td>3.03182</td>\n",
       "      <td>3410753.0</td>\n",
       "      <td>2.666522</td>\n",
       "    </tr>\n",
       "    <tr>\n",
       "      <th>2018-05-14</th>\n",
       "      <td>3.07302</td>\n",
       "      <td>2.96591</td>\n",
       "      <td>3.05489</td>\n",
       "      <td>3.04006</td>\n",
       "      <td>3059360.0</td>\n",
       "      <td>2.673769</td>\n",
       "    </tr>\n",
       "    <tr>\n",
       "      <th>2018-05-15</th>\n",
       "      <td>3.06478</td>\n",
       "      <td>2.98239</td>\n",
       "      <td>3.03182</td>\n",
       "      <td>3.01205</td>\n",
       "      <td>2553210.0</td>\n",
       "      <td>2.649134</td>\n",
       "    </tr>\n",
       "    <tr>\n",
       "      <th>2018-05-16</th>\n",
       "      <td>3.04665</td>\n",
       "      <td>3.01535</td>\n",
       "      <td>3.01699</td>\n",
       "      <td>3.03182</td>\n",
       "      <td>781681.0</td>\n",
       "      <td>2.666522</td>\n",
       "    </tr>\n",
       "    <tr>\n",
       "      <th>2018-05-17</th>\n",
       "      <td>3.03512</td>\n",
       "      <td>3.01535</td>\n",
       "      <td>3.03182</td>\n",
       "      <td>3.03018</td>\n",
       "      <td>415117.0</td>\n",
       "      <td>2.665079</td>\n",
       "    </tr>\n",
       "  </tbody>\n",
       "</table>\n",
       "</div>"
      ],
      "text/plain": [
       "               High      Low     Open    Close     Volume  Adj Close\n",
       "Date                                                                \n",
       "2018-05-11  3.09279  2.98239  3.08949  3.03182  3410753.0   2.666522\n",
       "2018-05-14  3.07302  2.96591  3.05489  3.04006  3059360.0   2.673769\n",
       "2018-05-15  3.06478  2.98239  3.03182  3.01205  2553210.0   2.649134\n",
       "2018-05-16  3.04665  3.01535  3.01699  3.03182   781681.0   2.666522\n",
       "2018-05-17  3.03512  3.01535  3.03182  3.03018   415117.0   2.665079"
      ]
     },
     "execution_count": 4,
     "metadata": {},
     "output_type": "execute_result"
    }
   ],
   "source": [
    "INTER.head()"
   ]
  },
  {
   "cell_type": "code",
   "execution_count": 5,
   "metadata": {},
   "outputs": [
    {
     "data": {
      "text/html": [
       "<div>\n",
       "<style scoped>\n",
       "    .dataframe tbody tr th:only-of-type {\n",
       "        vertical-align: middle;\n",
       "    }\n",
       "\n",
       "    .dataframe tbody tr th {\n",
       "        vertical-align: top;\n",
       "    }\n",
       "\n",
       "    .dataframe thead th {\n",
       "        text-align: right;\n",
       "    }\n",
       "</style>\n",
       "<table border=\"1\" class=\"dataframe\">\n",
       "  <thead>\n",
       "    <tr style=\"text-align: right;\">\n",
       "      <th></th>\n",
       "      <th>High</th>\n",
       "      <th>Low</th>\n",
       "      <th>Open</th>\n",
       "      <th>Close</th>\n",
       "      <th>Volume</th>\n",
       "      <th>Adj Close</th>\n",
       "    </tr>\n",
       "    <tr>\n",
       "      <th>Date</th>\n",
       "      <th></th>\n",
       "      <th></th>\n",
       "      <th></th>\n",
       "      <th></th>\n",
       "      <th></th>\n",
       "      <th></th>\n",
       "    </tr>\n",
       "  </thead>\n",
       "  <tbody>\n",
       "    <tr>\n",
       "      <th>2019-09-23</th>\n",
       "      <td>19.559999</td>\n",
       "      <td>19.160000</td>\n",
       "      <td>19.500000</td>\n",
       "      <td>19.459999</td>\n",
       "      <td>1290400.0</td>\n",
       "      <td>19.459999</td>\n",
       "    </tr>\n",
       "    <tr>\n",
       "      <th>2019-09-24</th>\n",
       "      <td>19.639999</td>\n",
       "      <td>19.049999</td>\n",
       "      <td>19.469999</td>\n",
       "      <td>19.110001</td>\n",
       "      <td>666400.0</td>\n",
       "      <td>19.110001</td>\n",
       "    </tr>\n",
       "    <tr>\n",
       "      <th>2019-09-25</th>\n",
       "      <td>19.340000</td>\n",
       "      <td>18.559999</td>\n",
       "      <td>19.080000</td>\n",
       "      <td>19.200001</td>\n",
       "      <td>1083200.0</td>\n",
       "      <td>19.200001</td>\n",
       "    </tr>\n",
       "    <tr>\n",
       "      <th>2019-09-26</th>\n",
       "      <td>19.490000</td>\n",
       "      <td>19.040001</td>\n",
       "      <td>19.240000</td>\n",
       "      <td>19.200001</td>\n",
       "      <td>926000.0</td>\n",
       "      <td>19.200001</td>\n",
       "    </tr>\n",
       "    <tr>\n",
       "      <th>2019-09-27</th>\n",
       "      <td>19.299999</td>\n",
       "      <td>19.000000</td>\n",
       "      <td>19.260000</td>\n",
       "      <td>19.110001</td>\n",
       "      <td>612200.0</td>\n",
       "      <td>19.110001</td>\n",
       "    </tr>\n",
       "  </tbody>\n",
       "</table>\n",
       "</div>"
      ],
      "text/plain": [
       "                 High        Low       Open      Close     Volume  Adj Close\n",
       "Date                                                                        \n",
       "2019-09-23  19.559999  19.160000  19.500000  19.459999  1290400.0  19.459999\n",
       "2019-09-24  19.639999  19.049999  19.469999  19.110001   666400.0  19.110001\n",
       "2019-09-25  19.340000  18.559999  19.080000  19.200001  1083200.0  19.200001\n",
       "2019-09-26  19.490000  19.040001  19.240000  19.200001   926000.0  19.200001\n",
       "2019-09-27  19.299999  19.000000  19.260000  19.110001   612200.0  19.110001"
      ]
     },
     "execution_count": 5,
     "metadata": {},
     "output_type": "execute_result"
    }
   ],
   "source": [
    "INTER.tail()"
   ]
  },
  {
   "cell_type": "markdown",
   "metadata": {},
   "source": [
    "## Simple Rate of Return"
   ]
  },
  {
   "cell_type": "markdown",
   "metadata": {},
   "source": [
    "$$\n",
    "\\frac{P_1 - P_0}{P_0} = \\frac{P_1}{P_0} - 1\n",
    "$$"
   ]
  },
  {
   "cell_type": "code",
   "execution_count": 26,
   "metadata": {},
   "outputs": [
    {
     "name": "stdout",
     "output_type": "stream",
     "text": [
      "Date\n",
      "2018-05-11         NaN\n",
      "2018-05-14    0.002718\n",
      "2018-05-15   -0.009214\n",
      "2018-05-16    0.006564\n",
      "2018-05-17   -0.000541\n",
      "2018-05-18    0.003261\n",
      "2018-05-21   -0.018970\n",
      "2018-05-22    0.022100\n",
      "2018-05-23    0.025404\n",
      "2018-05-24   -0.028992\n",
      "2018-05-25   -0.001087\n",
      "2018-05-28   -0.019022\n",
      "2018-05-29    0.016620\n",
      "2018-05-30   -0.046319\n",
      "2018-06-01   -0.017142\n",
      "2018-06-04    0.002904\n",
      "2018-06-05   -0.055652\n",
      "2018-06-06   -0.042356\n",
      "2018-06-07   -0.070513\n",
      "2018-06-08    0.027587\n",
      "2018-06-11    0.040267\n",
      "2018-06-12    0.032259\n",
      "2018-06-13   -0.018749\n",
      "2018-06-14   -0.009556\n",
      "2018-06-15   -0.016076\n",
      "2018-06-18   -0.019607\n",
      "2018-06-19   -0.014003\n",
      "2018-06-20   -0.031100\n",
      "2018-06-21   -0.027914\n",
      "2018-06-22    0.005023\n",
      "                ...   \n",
      "2019-08-19   -0.053300\n",
      "2019-08-20    0.067560\n",
      "2019-08-21    0.056253\n",
      "2019-08-22   -0.014265\n",
      "2019-08-23   -0.035697\n",
      "2019-08-26   -0.021511\n",
      "2019-08-27    0.012270\n",
      "2019-08-28    0.045455\n",
      "2019-08-29   -0.009662\n",
      "2019-08-30   -0.031707\n",
      "2019-09-02    0.015113\n",
      "2019-09-03   -0.011911\n",
      "2019-09-04   -0.011050\n",
      "2019-09-05    0.002539\n",
      "2019-09-06   -0.022796\n",
      "2019-09-09   -0.050285\n",
      "2019-09-10   -0.044760\n",
      "2019-09-11    0.068000\n",
      "2019-09-12   -0.004815\n",
      "2019-09-13   -0.009140\n",
      "2019-09-16    0.044493\n",
      "2019-09-17   -0.009870\n",
      "2019-09-18    0.020462\n",
      "2019-09-19   -0.001542\n",
      "2019-09-20    0.014418\n",
      "2019-09-23   -0.012183\n",
      "2019-09-24   -0.017986\n",
      "2019-09-25    0.004710\n",
      "2019-09-26    0.000000\n",
      "2019-09-27   -0.004688\n",
      "Name: simple_return, Length: 343, dtype: float64\n"
     ]
    }
   ],
   "source": [
    "INTER['simple_return'] = (INTER['Adj Close'] / INTER['Adj Close'].shift(1)) - 1\n",
    "print (INTER['simple_return'])"
   ]
  },
  {
   "cell_type": "code",
   "execution_count": 7,
   "metadata": {},
   "outputs": [
    {
     "data": {
      "image/png": "[encoded data removed]",
      "text/plain": [
       "<Figure size 576x360 with 1 Axes>"
      ]
     },
     "metadata": {
      "needs_background": "light"
     },
     "output_type": "display_data"
    }
   ],
   "source": [
    "INTER['simple_return'].plot(figsize=(8,5))\n",
    "plt.show()"
   ]
  },
  {
   "cell_type": "code",
   "execution_count": 22,
   "metadata": {},
   "outputs": [
    {
     "data": {
      "text/plain": [
       "0.006368791780250352"
      ]
     },
     "execution_count": 22,
     "metadata": {},
     "output_type": "execute_result"
    }
   ],
   "source": [
    "avg_return_d = INTER['simple_return'].mean()\n",
    "avg_return_d"
   ]
  },
  {
   "cell_type": "code",
   "execution_count": 11,
   "metadata": {},
   "outputs": [
    {
     "data": {
      "text/plain": [
       "1.5921979450625878"
      ]
     },
     "execution_count": 11,
     "metadata": {},
     "output_type": "execute_result"
    }
   ],
   "source": [
    "avg_return_a = INTER['simple_return'].mean() * 250\n",
    "avg_return_a"
   ]
  },
  {
   "cell_type": "code",
   "execution_count": 25,
   "metadata": {},
   "outputs": [
    {
     "name": "stdout",
     "output_type": "stream",
     "text": [
      "159.22% ao ano\n",
      "0.637% ao dia\n"
     ]
    }
   ],
   "source": [
    "print('{}% ao ano'.format(round(avg_return_a * 100,3)))\n",
    "print('{}% ao dia'.format(round(avg_return_d * 100,3)))"
   ]
  }
 ],
 "metadata": {
  "kernelspec": {
   "display_name": "Python 3",
   "language": "python",
   "name": "python3"
  },
  "language_info": {
   "codemirror_mode": {
    "name": "ipython",
    "version": 3
   },
   "file_extension": ".py",
   "mimetype": "text/x-python",
   "name": "python",
   "nbconvert_exporter": "python",
   "pygments_lexer": "ipython3",
   "version": "3.7.3"
  }
 },
 "nbformat": 4,
 "nbformat_minor": 2
}
